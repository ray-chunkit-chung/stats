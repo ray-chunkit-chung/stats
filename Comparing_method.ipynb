{
 "cells": [
  {
   "cell_type": "code",
   "execution_count": null,
   "metadata": {
    "collapsed": true
   },
   "outputs": [],
   "source": []
  },
  {
   "cell_type": "markdown",
   "metadata": {},
   "source": [
    "# Description"
   ]
  },
  {
   "cell_type": "code",
   "execution_count": null,
   "metadata": {
    "collapsed": true
   },
   "outputs": [],
   "source": [
    "mean_val = np.mean(data)\n",
    "sem_val  = stats.sem(data) "
   ]
  },
  {
   "cell_type": "code",
   "execution_count": null,
   "metadata": {
    "collapsed": true
   },
   "outputs": [],
   "source": [
    "def cilen(arr, alpha=0.95):\n",
    "    if len(arr) <= 1:\n",
    "        return 0\n",
    "    m, e, df = np.mean(arr), stats.sem(arr), len(arr) - 1\n",
    "    interval = stats.t.interval(alpha, df, loc=m, scale=e)\n",
    "    cilen = np.max(interval) - np.mean(interval)\n",
    "    return cilen\n",
    "\n",
    "m = df.pivot_table(index='x', values='y', aggfunc='mean')\n",
    "e = df.pivot_table(index='x', values='y', aggfunc=cilen)\n",
    "# e = df.pivot_table(index='x', values='y', aggfunc='sem')\n",
    "m.plot(xlim=[0.8, 3.2], yerr=e)"
   ]
  },
  {
   "cell_type": "code",
   "execution_count": null,
   "metadata": {
    "collapsed": true
   },
   "outputs": [],
   "source": []
  },
  {
   "cell_type": "code",
   "execution_count": null,
   "metadata": {
    "collapsed": true
   },
   "outputs": [],
   "source": []
  },
  {
   "cell_type": "markdown",
   "metadata": {},
   "source": [
    "# Compare proportion"
   ]
  },
  {
   "cell_type": "code",
   "execution_count": 5,
   "metadata": {},
   "outputs": [
    {
     "name": "stdout",
     "output_type": "stream",
     "text": [
      "['5.288388269523', '0.000000123399']\n",
      "['5.288388269523', '0.000000123399']\n",
      "['5.288388269523', '0.000000123399']\n"
     ]
    }
   ],
   "source": [
    "from scipy.stats import norm, chi2_contingency\n",
    "import scipy.stats as stats\n",
    "\n",
    "import statsmodels.api as sm\n",
    "# from rpy2.robjects import IntVector\n",
    "# from rpy2.robjects.packages import importr\n",
    "import numpy as np\n",
    "\n",
    "s1 = 135\n",
    "n1 = 1781\n",
    "s2 = 47\n",
    "n2 = 1443\n",
    "p1 = s1/n1\n",
    "p2 = s2/n2\n",
    "p = (s1 + s2)/(n1+n2)\n",
    "z = (p2-p1)/ ((p*(1-p)*((1/n1)+(1/n2)))**0.5)\n",
    "\n",
    "p_value = norm.cdf(z)\n",
    "\n",
    "print(['{:.12f}'.format(a) for a in (abs(z), p_value * 2)])\n",
    "\n",
    "z1, p_value1 = sm.stats.proportions_ztest([s1, s2], [n1, n2])\n",
    "\n",
    "print(['{:.12f}'.format(b) for b in (z1, p_value1)])\n",
    "\n",
    "# stats = importr('stats')\n",
    "# r_result = stats.prop_test(IntVector([s1, s2]), IntVector([n1, n2]), correct=False)\n",
    "\n",
    "# z2 = r_result[0][0]**0.5\n",
    "# p_value2 = r_result[2][0]\n",
    "\n",
    "# print(['{:.12f}'.format(c) for c in (z2, p_value2)])\n",
    "\n",
    "arr = np.array([[s1, n1-s1], [s2, n2-s2]])\n",
    "chi2, p_value3, dof, exp = chi2_contingency(arr, correction=False)\n",
    "\n",
    "print(['{:.12f}'.format(d) for d in (chi2**0.5, p_value3)])"
   ]
  },
  {
   "cell_type": "code",
   "execution_count": null,
   "metadata": {
    "collapsed": true
   },
   "outputs": [],
   "source": []
  },
  {
   "cell_type": "markdown",
   "metadata": {},
   "source": [
    "# Compare mean"
   ]
  },
  {
   "cell_type": "markdown",
   "metadata": {},
   "source": [
    "\n",
    "    Normal Distribution = True and Homogeneity of Variance = True\n",
    "\n",
    "    scipy.stats.ttest_ind(sample_1, sample_2)\n",
    "    Normal Distribution = True and Homogeneity of Variance = False\n",
    "\n",
    "    scipy.stats.ttest_ind(sample_1, sample_2, equal_var = False)\n",
    "    Normal Distribution = False and Homogeneity of Variance = True\n",
    "\n",
    "    scipy.stats.mannwhitneyu(sample_1, sample_2)\n",
    "    Normal Distribution = False and Homogeneity of Variance = False\n",
    "\n",
    "    ???"
   ]
  },
  {
   "cell_type": "code",
   "execution_count": null,
   "metadata": {
    "collapsed": true
   },
   "outputs": [],
   "source": []
  },
  {
   "cell_type": "code",
   "execution_count": null,
   "metadata": {
    "collapsed": true
   },
   "outputs": [],
   "source": []
  },
  {
   "cell_type": "markdown",
   "metadata": {},
   "source": [
    "### one sample t test"
   ]
  },
  {
   "cell_type": "code",
   "execution_count": 12,
   "metadata": {},
   "outputs": [
    {
     "data": {
      "text/plain": [
       "Ttest_1sampResult(statistic=0.84905219969388734, pvalue=0.39998137518456556)"
      ]
     },
     "execution_count": 12,
     "metadata": {},
     "output_type": "execute_result"
    }
   ],
   "source": [
    "rvs = stats.norm.rvs(loc=5, scale=10, size=(50))\n",
    "stats.ttest_1samp(rvs,5.0)"
   ]
  },
  {
   "cell_type": "code",
   "execution_count": 13,
   "metadata": {},
   "outputs": [
    {
     "data": {
      "text/plain": [
       "Ttest_1sampResult(statistic=4.063271814252392, pvalue=0.00017445873415394405)"
      ]
     },
     "execution_count": 13,
     "metadata": {},
     "output_type": "execute_result"
    }
   ],
   "source": [
    "stats.ttest_1samp(rvs,0.0)"
   ]
  },
  {
   "cell_type": "markdown",
   "metadata": {},
   "source": [
    "# Correlation"
   ]
  },
  {
   "cell_type": "code",
   "execution_count": 3,
   "metadata": {},
   "outputs": [
    {
     "ename": "NameError",
     "evalue": "name 'pearsonr' is not defined",
     "output_type": "error",
     "traceback": [
      "\u001b[1;31m---------------------------------------------------------------------------\u001b[0m",
      "\u001b[1;31mNameError\u001b[0m                                 Traceback (most recent call last)",
      "\u001b[1;32m<ipython-input-3-e722b598cf31>\u001b[0m in \u001b[0;36m<module>\u001b[1;34m()\u001b[0m\n\u001b[1;32m----> 1\u001b[1;33m \u001b[0mpearsonr\u001b[0m\u001b[1;33m(\u001b[0m\u001b[0mx\u001b[0m\u001b[1;33m,\u001b[0m \u001b[0my\u001b[0m\u001b[1;33m)\u001b[0m\u001b[1;33m\u001b[0m\u001b[0m\n\u001b[0m",
      "\u001b[1;31mNameError\u001b[0m: name 'pearsonr' is not defined"
     ]
    }
   ],
   "source": [
    "pearsonr(x, y)"
   ]
  },
  {
   "cell_type": "code",
   "execution_count": null,
   "metadata": {
    "collapsed": true
   },
   "outputs": [],
   "source": []
  },
  {
   "cell_type": "code",
   "execution_count": null,
   "metadata": {
    "collapsed": true
   },
   "outputs": [],
   "source": []
  },
  {
   "cell_type": "markdown",
   "metadata": {},
   "source": [
    "# Chi-Square Test contingency"
   ]
  },
  {
   "cell_type": "code",
   "execution_count": 19,
   "metadata": {},
   "outputs": [
    {
     "name": "stdout",
     "output_type": "stream",
     "text": [
      "(25.085973274234959, 4.8346447416999636e-05, 4, array([[  66.77631579,   93.10526316,   72.11842105],\n",
      "       [ 145.35361842,  202.66447368,  156.98190789],\n",
      "       [ 137.87006579,  192.23026316,  148.89967105]]))\n"
     ]
    }
   ],
   "source": [
    "from scipy.stats import chi2_contingency\n",
    "import numpy as np\n",
    "\n",
    "row1 = [91,90,51]\n",
    "row2 = [150,200,155]\n",
    "row3 = [109,198,172]\n",
    "data = [row1, row2, row3]\n",
    "print(chi2_contingency(data))\n",
    "\n",
    "chi2, p_value, dfreedom, expected = chi2_contingency(data)"
   ]
  },
  {
   "cell_type": "markdown",
   "metadata": {},
   "source": [
    "### Chi-Square Goodness of Fit Test\n",
    "\n",
    "For example, suppose a company printed baseball cards. It claimed that 30% of its cards were rookies; 60%, veterans; and 10%, All-Stars. We could gather a random sample of baseball cards and use a chi-square goodness of fit test to see whether our sample distribution differed significantly from the distribution claimed by the company. The sample problem at the end of the lesson considers this example.\n",
    "\n",
    "\n",
    "### Chi-Square Test of Homogeneity\n",
    "\n",
    "For example, in a survey of TV viewing preferences, we might ask respondents to identify their favorite program. We might ask the same question of two different populations, such as males and females. We could use a chi-square test for homogeneity to determine whether male viewing preferences differed significantly from female viewing preferences. The sample problem at the end of the lesson considers this example.\n",
    "\n",
    "\n",
    "### Chi-Square Test for Independence\n",
    "\n",
    "For example, in an election survey, voters might be classified by gender (male or female) and voting preference (Democrat, Republican, or Independent). We could use a chi-square test for independence to determine whether gender is related to voting preference. The sample problem at the end of the lesson considers this example.\n",
    "\n"
   ]
  },
  {
   "cell_type": "code",
   "execution_count": 18,
   "metadata": {},
   "outputs": [
    {
     "name": "stdout",
     "output_type": "stream",
     "text": [
      "Test Statistic: 203.08897607453906\n",
      "p-value: 9.071837953389042e-44\n"
     ]
    }
   ],
   "source": [
    "import scipy.stats\n",
    " \n",
    "chi2, p = stats.chisquare(f_obs=[11294, 11830, 10820, 12875], f_exp=[10749, 10940, 10271, 11937])\n",
    "msg = \"Test Statistic: {}\\np-value: {}\"\n",
    "print(msg.format(chi2, p))"
   ]
  },
  {
   "cell_type": "code",
   "execution_count": null,
   "metadata": {
    "collapsed": true
   },
   "outputs": [],
   "source": []
  }
 ],
 "metadata": {
  "kernelspec": {
   "display_name": "Python 3",
   "language": "python",
   "name": "python3"
  },
  "language_info": {
   "codemirror_mode": {
    "name": "ipython",
    "version": 3
   },
   "file_extension": ".py",
   "mimetype": "text/x-python",
   "name": "python",
   "nbconvert_exporter": "python",
   "pygments_lexer": "ipython3",
   "version": "3.6.1"
  }
 },
 "nbformat": 4,
 "nbformat_minor": 2
}
