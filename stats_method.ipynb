{
 "cells": [
  {
   "cell_type": "code",
   "execution_count": null,
   "metadata": {
    "collapsed": true
   },
   "outputs": [],
   "source": []
  },
  {
   "cell_type": "markdown",
   "metadata": {},
   "source": [
    "# Descriptive"
   ]
  },
  {
   "cell_type": "code",
   "execution_count": 32,
   "metadata": {},
   "outputs": [
    {
     "name": "stdout",
     "output_type": "stream",
     "text": [
      "11.5 0.645497224368\n",
      "(9.4457397432391215, 13.554260256760879)\n",
      "(9.4457397432391197, 13.55426025676088)\n",
      "(11.5, 9.4457397432391215, 13.554260256760879)\n",
      "(10.23484868811834, 12.76515131188166)\n"
     ]
    }
   ],
   "source": [
    "import pandas as pd\n",
    "import numpy as np\n",
    "import scipy.stats as stats\n",
    "import statsmodels.stats.api as sm\n",
    "\n",
    "%matplotlib inline\n",
    "\n",
    "data = np.arange(10,14)\n",
    "\n",
    "mean_val = np.mean(data)   # mean\n",
    "sem_val  = stats.sem(data) # standard error of mean\n",
    "print(mean_val, sem_val)\n",
    "\n",
    "def mean_confidence_interval(data, confidence=0.95):\n",
    "    a = 1.0*np.array(data)\n",
    "    n = len(a)\n",
    "    m, se = np.mean(a), stats.sem(a)\n",
    "    h = se * stats.t._ppf((1+confidence)/2., n-1)\n",
    "    return m, m-h, m+h\n",
    "\n",
    "# correct\n",
    "temp = stats.t.interval(0.95, len(data)-1, loc=np.mean(data), scale=stats.sem(data))\n",
    "print(temp)\n",
    "\n",
    "temp = sm.DescrStatsW(data).tconfint_mean()\n",
    "print(temp)\n",
    "\n",
    "temp = mean_confidence_interval(data)\n",
    "print(temp)\n",
    "\n",
    "#incorrect\n",
    "temp = stats.norm.interval(0.95, loc=np.mean(data), scale=stats.sem(data))\n",
    "\n",
    "print(temp)\n"
   ]
  },
  {
   "cell_type": "code",
   "execution_count": null,
   "metadata": {
    "collapsed": true
   },
   "outputs": [],
   "source": [
    "def cilen(arr, alpha=0.95):\n",
    "    if len(arr) <= 1:\n",
    "        return 0\n",
    "    m, e, df = np.mean(arr), stats.sem(arr), len(arr) - 1\n",
    "    interval = stats.t.interval(alpha, df, loc=m, scale=e)\n",
    "    cilen = np.max(interval) - np.mean(interval)\n",
    "    return cilen\n",
    "\n",
    "df = pd.DataFrame(np.array([data, data]).T, columns=['x', 'y'])\n",
    "\n",
    "m = df.pivot_table(index='x', values='y', aggfunc='mean')\n",
    "e = df.pivot_table(index='x', values='y', aggfunc=cilen)\n",
    "# e = df.pivot_table(index='x', values='y', aggfunc='sem')\n",
    "\n",
    "m.plot(xlim=[0.8, 3.2], yerr=e)"
   ]
  },
  {
   "cell_type": "markdown",
   "metadata": {
    "collapsed": true
   },
   "source": [
    "### proportion confidence interval\n",
    "\n",
    "http://www.statsmodels.org/dev/generated/statsmodels.stats.proportion.proportion_confint.html\n",
    "\n",
    "Returns:\t\n",
    "ci_low, ci_upp : float\n",
    "\n",
    " scipy.stats module has a method .interval() to compute the equal tails confidence,"
   ]
  },
  {
   "cell_type": "code",
   "execution_count": null,
   "metadata": {
    "collapsed": true
   },
   "outputs": [],
   "source": []
  },
  {
   "cell_type": "code",
   "execution_count": null,
   "metadata": {
    "collapsed": true
   },
   "outputs": [],
   "source": []
  },
  {
   "cell_type": "markdown",
   "metadata": {},
   "source": [
    "# Compare mean"
   ]
  },
  {
   "cell_type": "markdown",
   "metadata": {},
   "source": [
    "\n",
    "    Normal Distribution = True and Homogeneity of Variance = True\n",
    "\n",
    "    scipy.stats.ttest_ind(sample_1, sample_2)\n",
    "    Normal Distribution = True and Homogeneity of Variance = False\n",
    "\n",
    "    scipy.stats.ttest_ind(sample_1, sample_2, equal_var = False)\n",
    "    Normal Distribution = False and Homogeneity of Variance = True\n",
    "\n",
    "    scipy.stats.mannwhitneyu(sample_1, sample_2)\n",
    "    Normal Distribution = False and Homogeneity of Variance = False\n",
    "\n",
    "    ???"
   ]
  },
  {
   "cell_type": "code",
   "execution_count": null,
   "metadata": {},
   "outputs": [],
   "source": [
    "import numpy as np \n",
    "\n",
    "from scipy.stats import ttest_ind\n",
    "\n",
    "sample_1 = np.random.normal(0.04,0.1,120)\n",
    "sample_2 = np.random.normal(0.02,0.1,1200)\n",
    "\n",
    "ttest_ind(sample_1, sample_2)\n",
    "\n"
   ]
  },
  {
   "cell_type": "code",
   "execution_count": null,
   "metadata": {
    "collapsed": true
   },
   "outputs": [],
   "source": []
  },
  {
   "cell_type": "markdown",
   "metadata": {},
   "source": [
    "### one sample t test"
   ]
  },
  {
   "cell_type": "code",
   "execution_count": null,
   "metadata": {},
   "outputs": [],
   "source": [
    "rvs = stats.norm.rvs(loc=5, scale=10, size=(50))\n",
    "stats.ttest_1samp(rvs,5.0)"
   ]
  },
  {
   "cell_type": "code",
   "execution_count": null,
   "metadata": {},
   "outputs": [],
   "source": [
    "stats.ttest_1samp(rvs,0.0)"
   ]
  },
  {
   "cell_type": "markdown",
   "metadata": {},
   "source": [
    "# compare proportion\n",
    "\n",
    "https://onlinecourses.science.psu.edu/stat414/node/268\n",
    "\n",
    "### one sample\n",
    "https://docs.scipy.org/doc/scipy-0.14.0/reference/generated/scipy.stats.binom_test.html\n",
    "\n",
    "\n",
    "### two samples\n",
    "http://www.statsmodels.org/dev/generated/statsmodels.stats.proportion.proportions_ztest.html\n"
   ]
  },
  {
   "cell_type": "code",
   "execution_count": null,
   "metadata": {},
   "outputs": [],
   "source": [
    "import statsmodels.api as sm\n",
    "import numpy as np\n",
    "# import rpy2.robjects.packages as rpackages\n",
    "# import rpy2.robjects as robjects\n",
    "# rstats = rpackages.importr('stats')\n",
    "\n",
    "s1 = 1556   # success\n",
    "n1 = 2455   # sample size\n",
    "\n",
    "s2 = 1671\n",
    "n2 = 2730\n",
    "\n",
    "# manual calculation\n",
    "p1 = s1 / n1\n",
    "p2 = s2 / n2\n",
    "p = (s1 + s2) / (n1 + n2)\n",
    "\n",
    "z = (p1 - p2) / (p*(1-p)*((1/n1)+(1/n2)))**0.5\n",
    "\n",
    "# using R in Python with rpy2\n",
    "# rmatrix = robjects.r.matrix(robjects.IntVector([s1, n1-s1, s2,n2-s2]), nrow=2)\n",
    "# fisher_test = rstats.fisher_test(rmatrix, alternative=\"two.sided\")\n",
    "\n",
    "# statsmodels\n",
    "zscore, pval = sm.stats.proportions_ztest([s1, s2], [n1, n2], alternative='two-sided')\n",
    "\n",
    "print('Manual calculation of z: {:.6f}'.format(z))\n",
    "print('Z-score from statsmodels: {:.6f}'.format(zscore))\n",
    "# print('R pvalue from fisher.test: {:.6f}'.format(fisher_test[0][0]))\n",
    "print('Statsmodels pvalue: {:.6f}'.format(pval))"
   ]
  },
  {
   "cell_type": "code",
   "execution_count": null,
   "metadata": {},
   "outputs": [],
   "source": [
    "from scipy.stats import norm, chi2_contingency\n",
    "import scipy.stats as stats\n",
    "\n",
    "import statsmodels.api as sm\n",
    "# from rpy2.robjects import IntVector\n",
    "# from rpy2.robjects.packages import importr\n",
    "import numpy as np\n",
    "\n",
    "s1 = 135\n",
    "n1 = 1781\n",
    "s2 = 47\n",
    "n2 = 1443\n",
    "p1 = s1/n1\n",
    "p2 = s2/n2\n",
    "p = (s1 + s2)/(n1+n2)\n",
    "z = (p2-p1)/ ((p*(1-p)*((1/n1)+(1/n2)))**0.5)\n",
    "\n",
    "p_value = norm.cdf(z)\n",
    "\n",
    "print(['{:.12f}'.format(a) for a in (abs(z), p_value * 2)])\n",
    "\n",
    "z1, p_value1 = sm.stats.proportions_ztest([s1, s2], [n1, n2])\n",
    "\n",
    "print(['{:.12f}'.format(b) for b in (z1, p_value1)])\n",
    "\n",
    "# stats = importr('stats')\n",
    "# r_result = stats.prop_test(IntVector([s1, s2]), IntVector([n1, n2]), correct=False)\n",
    "\n",
    "# z2 = r_result[0][0]**0.5\n",
    "# p_value2 = r_result[2][0]\n",
    "\n",
    "# print(['{:.12f}'.format(c) for c in (z2, p_value2)])\n",
    "\n",
    "arr = np.array([[s1, n1-s1], [s2, n2-s2]])\n",
    "chi2, p_value3, dof, exp = chi2_contingency(arr, correction=False)\n",
    "\n",
    "print(['{:.12f}'.format(d) for d in (chi2**0.5, p_value3)])"
   ]
  },
  {
   "cell_type": "code",
   "execution_count": null,
   "metadata": {
    "collapsed": true
   },
   "outputs": [],
   "source": []
  },
  {
   "cell_type": "markdown",
   "metadata": {},
   "source": [
    "# Correlation"
   ]
  },
  {
   "cell_type": "code",
   "execution_count": null,
   "metadata": {},
   "outputs": [],
   "source": [
    "pearsonr(x, y)"
   ]
  },
  {
   "cell_type": "code",
   "execution_count": null,
   "metadata": {
    "collapsed": true
   },
   "outputs": [],
   "source": []
  },
  {
   "cell_type": "code",
   "execution_count": null,
   "metadata": {
    "collapsed": true
   },
   "outputs": [],
   "source": []
  },
  {
   "cell_type": "markdown",
   "metadata": {},
   "source": [
    "# Chi-Square Test contingency"
   ]
  },
  {
   "cell_type": "markdown",
   "metadata": {},
   "source": [
    "### Chi-Square Goodness of Fit Test\n",
    "\n",
    "For example, suppose a company printed baseball cards. It claimed that 30% of its cards were rookies; 60%, veterans; and 10%, All-Stars. We could gather a random sample of baseball cards and use a chi-square goodness of fit test to see whether our sample distribution differed significantly from the distribution claimed by the company. The sample problem at the end of the lesson considers this example.\n",
    "\n",
    "\n",
    "### Chi-Square Test of Homogeneity\n",
    "\n",
    "For example, in a survey of TV viewing preferences, we might ask respondents to identify their favorite program. We might ask the same question of two different populations, such as males and females. We could use a chi-square test for homogeneity to determine whether male viewing preferences differed significantly from female viewing preferences. The sample problem at the end of the lesson considers this example.\n",
    "\n",
    "\n",
    "### Chi-Square Test for Independence\n",
    "\n",
    "For example, in an election survey, voters might be classified by gender (male or female) and voting preference (Democrat, Republican, or Independent). We could use a chi-square test for independence to determine whether gender is related to voting preference. The sample problem at the end of the lesson considers this example.\n",
    "\n",
    "http://stattrek.com/chi-square-test/homogeneity.aspx?Tutorial=AP\n",
    "\n",
    "\n",
    "### so... how they are different?\n",
    "\n",
    "1) A goodness of fit test is for testing whether a set of multinomial counts is distributed according to a prespecified (i.e. before you see the data!) set of population proportions.\n",
    "\n",
    "2) A test of homogeneity tests whether two (or more) sets of multinomial counts come from different sets of population proportions.\n",
    "\n",
    "3) A test of independence tests is for a bivariate** multinomial, of whether pijpij is different from pipjpipj.\n",
    "\n",
    "**(usually)\n",
    "https://stats.stackexchange.com/questions/91970/chi-square-test-difference-between-goodness-of-fit-test-and-test-of-independenc"
   ]
  },
  {
   "cell_type": "code",
   "execution_count": 28,
   "metadata": {},
   "outputs": [
    {
     "name": "stdout",
     "output_type": "stream",
     "text": [
      "Test Statistic: 203.08897607453906\n",
      "p-value: 9.071837953389042e-44\n"
     ]
    }
   ],
   "source": [
    "### Chi-Square Goodness of Fit Test\n",
    "\n",
    "import scipy.stats as stats\n",
    "\n",
    "chi2, p = stats.chisquare(f_obs=[11294, 11830, 10820, 12875], f_exp=[10749, 10940, 10271, 11937])\n",
    "msg = \"Test Statistic: {}\\np-value: {}\"\n",
    "print(msg.format(chi2, p))"
   ]
  },
  {
   "cell_type": "code",
   "execution_count": null,
   "metadata": {
    "collapsed": true
   },
   "outputs": [],
   "source": []
  },
  {
   "cell_type": "code",
   "execution_count": 27,
   "metadata": {},
   "outputs": [
    {
     "name": "stdout",
     "output_type": "stream",
     "text": [
      "(25.085973274234959, 4.8346447416999636e-05, 4, array([[  66.77631579,   93.10526316,   72.11842105],\n",
      "       [ 145.35361842,  202.66447368,  156.98190789],\n",
      "       [ 137.87006579,  192.23026316,  148.89967105]]))\n"
     ]
    }
   ],
   "source": [
    "### Chi-Square Test for Independence\n",
    "\n",
    "from scipy.stats import chi2_contingency\n",
    "import numpy as np\n",
    "\n",
    "row1 = [91,90,51]\n",
    "row2 = [150,200,155]\n",
    "row3 = [109,198,172]\n",
    "data = [row1, row2, row3]\n",
    "print(chi2_contingency(data))\n",
    "\n",
    "chi2, p_value, dfreedom, expected = chi2_contingency(data)"
   ]
  },
  {
   "cell_type": "code",
   "execution_count": null,
   "metadata": {
    "collapsed": true
   },
   "outputs": [],
   "source": []
  }
 ],
 "metadata": {
  "kernelspec": {
   "display_name": "Python 3",
   "language": "python",
   "name": "python3"
  },
  "language_info": {
   "codemirror_mode": {
    "name": "ipython",
    "version": 3
   },
   "file_extension": ".py",
   "mimetype": "text/x-python",
   "name": "python",
   "nbconvert_exporter": "python",
   "pygments_lexer": "ipython3",
   "version": "3.6.1"
  }
 },
 "nbformat": 4,
 "nbformat_minor": 2
}
