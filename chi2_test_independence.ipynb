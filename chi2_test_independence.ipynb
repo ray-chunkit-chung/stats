{
 "cells": [
  {
   "cell_type": "code",
   "execution_count": 14,
   "metadata": {},
   "outputs": [
    {
     "name": "stdout",
     "output_type": "stream",
     "text": [
      "(25.085973274234959, 4.8346447416999636e-05, 4, array([[  66.77631579,   93.10526316,   72.11842105],\n",
      "       [ 145.35361842,  202.66447368,  156.98190789],\n",
      "       [ 137.87006579,  192.23026316,  148.89967105]]))\n"
     ]
    }
   ],
   "source": [
    "from scipy.stats import chi2_contingency\n",
    "import numpy as np\n",
    "\n",
    "row1 = [91,90,51]\n",
    "row2 = [150,200,155]\n",
    "row3 = [109,198,172]\n",
    "data = [row1, row2, row3]\n",
    "print(chi2_contingency(data))\n",
    "\n",
    "chi2, p_value, dfreedom, expected = chi2_contingency(data)"
   ]
  },
  {
   "cell_type": "markdown",
   "metadata": {},
   "source": [
    "### R output\n",
    "\n",
    "    Pearson's Chi-squared test\n",
    "\n",
    "    data:  data.table \n",
    "    X-squared = 25.086, df = 4, p-value = 4.835e-05"
   ]
  },
  {
   "cell_type": "code",
   "execution_count": 13,
   "metadata": {},
   "outputs": [
    {
     "name": "stdout",
     "output_type": "stream",
     "text": [
      "1216.0\n",
      "1216\n"
     ]
    }
   ],
   "source": [
    "print(expected.sum().sum())\n",
    "print(np.array(data).sum().sum())"
   ]
  },
  {
   "cell_type": "code",
   "execution_count": null,
   "metadata": {
    "collapsed": true
   },
   "outputs": [],
   "source": []
  }
 ],
 "metadata": {
  "kernelspec": {
   "display_name": "Python 3",
   "language": "python",
   "name": "python3"
  },
  "language_info": {
   "codemirror_mode": {
    "name": "ipython",
    "version": 3
   },
   "file_extension": ".py",
   "mimetype": "text/x-python",
   "name": "python",
   "nbconvert_exporter": "python",
   "pygments_lexer": "ipython3",
   "version": "3.6.1"
  }
 },
 "nbformat": 4,
 "nbformat_minor": 2
}
